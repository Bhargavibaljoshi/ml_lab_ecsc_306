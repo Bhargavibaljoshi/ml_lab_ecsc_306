{
 "cells": [
  {
   "cell_type": "code",
   "execution_count": 1,
   "metadata": {
    "collapsed": true
   },
   "outputs": [],
   "source": [
    "import tensorflow as tf"
   ]
  },
  {
   "cell_type": "code",
   "execution_count": 81,
   "metadata": {},
   "outputs": [
    {
     "name": "stdout",
     "output_type": "stream",
     "text": [
      "9\n"
     ]
    }
   ],
   "source": [
    "#(a-b)^2=a^2+b^2-2ab\n",
    "a=5\n",
    "b=2\n",
    "\n",
    "with tf.name_scope(\"lab1_assgn1\"):\n",
    "    with tf.name_scope(\"Scope_A\"):\n",
    "        x = tf.multiply(a, a)\n",
    "        y = tf.multiply(b, b)\n",
    "    with tf.name_scope(\"Scope_B\"):\n",
    "        z = tf.multiply(2, a)\n",
    "        h = tf.multiply(z, b)\n",
    "\n",
    "with tf.name_scope(\"Scope_C\"):\n",
    "    d = tf.add(x, y)\n",
    "    s = tf.subtract(d, h)\n",
    "\n",
    "\n",
    "\n",
    "with tf.Session() as sess:\n",
    "    writer = tf.summary.FileWriter(\"/tmp/tboard/sam\", sess.graph)\n",
    "    print(sess.run(s))\n",
    "    writer.close()"
   ]
  },
  {
   "cell_type": "code",
   "execution_count": 11,
   "metadata": {
    "collapsed": true
   },
   "outputs": [],
   "source": [
    "import numpy as np\n"
   ]
  },
  {
   "cell_type": "code",
   "execution_count": 23,
   "metadata": {},
   "outputs": [
    {
     "name": "stdout",
     "output_type": "stream",
     "text": [
      "2\n",
      "4\n"
     ]
    }
   ],
   "source": [
    "import numpy as np\n",
    "a=np.array([1,2,3])\n",
    "b=np.array([3,4,5])\n",
    "c=tf.reduce_mean(a)\n",
    "d=tf.reduce_mean(b)\n",
    "\n",
    "with tf.Session() as sess:\n",
    "    writer = tf.summary.FileWriter(\"/tmp/tboard/output_a\", sess.graph)\n",
    "    print(sess.run(c))\n",
    "    print(sess.run(d))\n",
    "    writer.close()\n",
    "\n"
   ]
  },
  {
   "cell_type": "code",
   "execution_count": 50,
   "metadata": {},
   "outputs": [
    {
     "name": "stdout",
     "output_type": "stream",
     "text": [
      "2.5\n",
      "6.5\n",
      "[[-1.5 -0.5  0.5  1.5]]\n",
      "[[-1.5 -0.5  0.5  1.5]]\n",
      "[[ 2.25  0.25  0.25  2.25]]\n",
      "5.0\n",
      "[[ 2.25  0.25  0.25  2.25]]\n",
      "5.0\n"
     ]
    }
   ],
   "source": [
    "import tensorflow as tf\n",
    "import tensorflow as tf\n",
    "x=tf.constant([1.0,2.0,3.0,4.0],shape=[1,4],name='x')\n",
    "y=tf.constant([5.0,6.0,7.0,8.0],shape=[1,4],name='y')\n",
    "with tf.name_scope(\"mean\"):\n",
    "    with tf.name_scope(\"mean_x_y\"):\n",
    "        x1=tf.reduce_mean(x)\n",
    "        y1=tf.reduce_mean(y)\n",
    "        sess=tf.Session()\n",
    "    print(sess.run(x1))\n",
    "    print(sess.run(y1))\n",
    "with tf.name_scope(\"variance\"):\n",
    "    with tf.name_scope(\"scope_sub1\"):\n",
    "        a=tf.subtract(x,x1)\n",
    "        sess1=tf.Session()\n",
    "    print(sess1.run(a))\n",
    "    with tf.name_scope(\"scope_sub2\"):\n",
    "        b=tf.subtract(y,y1)\n",
    "        sess2=tf.Session()\n",
    "    print(sess2.run(b))\n",
    "    with tf.name_scope(\"scope_square\"):\n",
    "        a1=tf.multiply(a,a)\n",
    "        sess3=tf.Session()\n",
    "    print(sess3.run(a1))\n",
    "    with tf.name_scope(\"scope_summation\"):\n",
    "        var=tf.reduce_sum(a1)\n",
    "        sess4=tf.Session()\n",
    "    print(sess4.run(var))\n",
    "with tf.name_scope(\"covariance\"):\n",
    "    with tf.name_scope(\"multiplication\"):\n",
    "        mul1=tf.multiply(a,b)\n",
    "        sess5=tf.Session()\n",
    "    print(sess5.run(mul1))\n",
    "    with tf.name_scope(\"scope_summation2\"):\n",
    "        covar=tf.reduce_sum(mul1)\n",
    "        sess6=tf.Session()\n",
    "    print(sess6.run(covar))"
   ]
  },
  {
   "cell_type": "code",
   "execution_count": 72,
   "metadata": {},
   "outputs": [
    {
     "name": "stdout",
     "output_type": "stream",
     "text": [
      "26.38\n",
      "8.5\n"
     ]
    }
   ],
   "source": [
    "# mean of x and y\n",
    "import tensorflow as tf\n",
    "\n",
    "with tf.name_scope(\"var\"):\n",
    "    with tf.name_scope(\"mean_x\"):\n",
    "        a=tf.constant([25.0,27.0,26.2,27.32],shape=[1,4],name='a')\n",
    "        b=tf.constant([7.0,9.0,10.0,8.0],shape=[1,4],name='b')\n",
    "        x=tf.reduce_mean(a)\n",
    "        sess=tf.Session()\n",
    "    print(sess.run(x))\n",
    "    \n",
    "with tf.name_scope(\"mean_y\"):\n",
    "        y=tf.reduce_mean(b)\n",
    "        sess=tf.Session()\n",
    "print(sess.run(y))\n",
    "\n",
    "    "
   ]
  },
  {
   "cell_type": "code",
   "execution_count": 69,
   "metadata": {},
   "outputs": [
    {
     "name": "stdout",
     "output_type": "stream",
     "text": [
      "[[-1.38000107  0.61999893 -0.18000031  0.93999863]]\n",
      "3.2048\n"
     ]
    }
   ],
   "source": [
    "#variance\n",
    "d=tf.subtract(a,x)\n",
    "sess=tf.Session()\n",
    "print(sess.run(d ))\n",
    "\n",
    "e=tf.square(d)\n",
    "f=tf.reduce_sum(e)\n",
    "sess=tf.Session()\n",
    "print(sess.run(f))\n"
   ]
  },
  {
   "cell_type": "code",
   "execution_count": 71,
   "metadata": {},
   "outputs": [
    {
     "name": "stdout",
     "output_type": "stream",
     "text": [
      "1.64\n",
      "0.511733\n",
      "0.511733\n"
     ]
    }
   ],
   "source": [
    "#covariance,value of c,value of m\n",
    "with tf.name_scope(\"covariance\"):\n",
    "    g=tf.subtract(b,y)\n",
    "    sess=tf.Session()\n",
    "    g=tf.multiply(d,g)\n",
    "    h=tf.reduce_sum(g)\n",
    "print(sess.run(h))\n",
    "\n",
    "with tf.name_scope(\"value_of_c\"):\n",
    "    j=tf.divide(h,f)\n",
    "print(sess.run(j))\n",
    "\n",
    "with tf.name_scope(\"value_m\"):\n",
    "    i=tf.multiply(j,x)\n",
    "    k=tf.subtract(y,i)\n",
    "print(sess.run(j))"
   ]
  },
  {
   "cell_type": "code",
   "execution_count": 80,
   "metadata": {},
   "outputs": [
    {
     "name": "stdout",
     "output_type": "stream",
     "text": [
      "72\n"
     ]
    }
   ],
   "source": [
    "#(a^3+b^3)=(a+b)(a^2-ab+b^2)\n",
    "import tensorflow as tf\n",
    "var1=tf.constant(4)\n",
    "var2=tf.constant(2)\n",
    "with tf.name_scope(\"MyOperationGroup\"):\n",
    "    with tf.name_scope(\"Scope_A\"):\n",
    "        a = tf.multiply(var1,var1)\n",
    "        b = tf.multiply(var2,var2)  \n",
    "        with tf.name_scope(\"Scope_B\"):\n",
    "            c = tf.add(a, b, name=\"And_These_ones\")\n",
    "            d = tf.multiply(var1, var2, name=\"Multiply_these_numbers\")\n",
    "\n",
    "    with tf.name_scope(\"Scope_C\"):\n",
    "         e=tf.subtract(c,d, name=\"subtrating\")\n",
    "        f=tf.add(var1,var2)\n",
    "   \n",
    "    with tf.name_scope(\"Scope_D\"):\n",
    "        g = tf.multiply(f,e)\n",
    "\n",
    "\n",
    "    with tf.Session() as sess:\n",
    "        writer = tf.summary.FileWriter(\"/tmp/tboard/output_la\", sess.graph)\n",
    "    print(sess.run(g))\n",
    "    writer.close()"
   ]
  },
  {
   "cell_type": "code",
   "execution_count": null,
   "metadata": {
    "collapsed": true
   },
   "outputs": [],
   "source": []
  }
 ],
 "metadata": {
  "kernelspec": {
   "display_name": "Python 3",
   "language": "python",
   "name": "python3"
  },
  "language_info": {
   "codemirror_mode": {
    "name": "ipython",
    "version": 3
   },
   "file_extension": ".py",
   "mimetype": "text/x-python",
   "name": "python",
   "nbconvert_exporter": "python",
   "pygments_lexer": "ipython3",
   "version": "3.6.1"
  }
 },
 "nbformat": 4,
 "nbformat_minor": 2
}
