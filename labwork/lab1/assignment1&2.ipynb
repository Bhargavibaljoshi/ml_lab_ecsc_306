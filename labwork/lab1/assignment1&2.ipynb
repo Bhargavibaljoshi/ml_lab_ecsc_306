{
 "cells": [
  {
   "cell_type": "code",
   "execution_count": 1,
   "metadata": {
    "collapsed": true
   },
   "outputs": [],
   "source": [
    "\n",
    "import tensorflow as tf"
   ]
  },
  {
   "cell_type": "code",
   "execution_count": 2,
   "metadata": {},
   "outputs": [
    {
     "name": "stdout",
     "output_type": "stream",
     "text": [
      "9\n"
     ]
    }
   ],
   "source": [
    "#(a-b)^2=a^2+b^2-2ab\n",
    "a=5\n",
    "b=2\n",
    "\n",
    "with tf.name_scope(\"lab1_assgn1\"):\n",
    "    with tf.name_scope(\"Scope_A\"):\n",
    "        x = tf.multiply(a, a)\n",
    "        y = tf.multiply(b, b)\n",
    "    with tf.name_scope(\"Scope_B\"):\n",
    "        z = tf.multiply(2, a)\n",
    "        h = tf.multiply(z, b)\n",
    "\n",
    "with tf.name_scope(\"Scope_C\"):\n",
    "    d = tf.add(x, y)\n",
    "    s = tf.subtract(d, h)\n",
    "\n",
    "\n",
    "\n",
    "with tf.Session() as sess:\n",
    "    writer = tf.summary.FileWriter(\"/tmp/tboard/sam\", sess.graph)\n",
    "    print(sess.run(s))\n",
    "    writer.close()"
   ]
  },
  {
   "cell_type": "code",
   "execution_count": 15,
   "metadata": {},
   "outputs": [
    {
     "name": "stdout",
     "output_type": "stream",
     "text": [
      "72\n"
     ]
    }
   ],
   "source": [
    "#(a^3+b^3)=(a+b)(a^2-ab+b^2)\n",
    "var1=tf.constant(4)\n",
    "var2=tf.constant(2)\n",
    "with tf.name_scope(\"MyOperationGroup\"):\n",
    "    with tf.name_scope(\"Scope_A\"):\n",
    "        a = tf.multiply(var1,var1)\n",
    "        b = tf.multiply(var2,var2)  \n",
    "        with tf.name_scope(\"Scope_B\"):\n",
    "            c = tf.add(a, b, name=\"And_These_ones\")\n",
    "            d = tf.multiply(var1, var2, name=\"Multiply_these_numbers\")\n",
    "\n",
    "    with tf.name_scope(\"Scope_C\"):\n",
    "            e=tf.subtract(c,d, name=\"subtrating\")\n",
    "            f=tf.add(var1,var2)\n",
    "   \n",
    "    with tf.name_scope(\"Scope_D\"):\n",
    "        g = tf.multiply(f,e)\n",
    "\n",
    "\n",
    "    with tf.Session() as sess:\n",
    "        writer = tf.summary.FileWriter(\"/tmp/tboard/ni\", sess.graph)\n",
    "    print(sess.run(g))\n",
    "    writer.close()"
   ]
  },
  {
   "cell_type": "code",
   "execution_count": 21,
   "metadata": {},
   "outputs": [
    {
     "name": "stdout",
     "output_type": "stream",
     "text": [
      "26.38\n",
      "8.5\n",
      "[[-1.38000107  0.61999893 -0.18000031  0.93999863]]\n",
      "3.2048\n",
      "1.64\n",
      "0.511733\n",
      "-4.99952\n"
     ]
    }
   ],
   "source": [
    "import tensorflow as tf\n",
    "#variance and mean\n",
    "with tf.name_scope(\"var\"):\n",
    "    with tf.name_scope(\"mean_x\"):\n",
    "        a=tf.constant([25.0,27.0,26.2,27.32],shape=[1,4],name='a')\n",
    "        b=tf.constant([7.0,9.0,10.0,8.0],shape=[1,4],name='b')\n",
    "        x=tf.reduce_mean(a)\n",
    "        sess=tf.Session()\n",
    "    \n",
    "with tf.name_scope(\"mean_y\"):\n",
    "        y=tf.reduce_mean(b)\n",
    "        sess=tf.Session()\n",
    "\n",
    "\n",
    "d=tf.subtract(a,x)\n",
    "sess=tf.Session()\n",
    "\n",
    "\n",
    "e=tf.square(d)\n",
    "f=tf.reduce_sum(e)\n",
    "sess=tf.Session()\n",
    "\n",
    "#covariance\n",
    "with tf.name_scope(\"covariance\"):\n",
    "    g=tf.subtract(b,y)\n",
    "    sess=tf.Session()\n",
    "    g=tf.multiply(d,g)\n",
    "    h=tf.reduce_sum(g)\n",
    "\n",
    "#value of c\n",
    "with tf.name_scope(\"value_of_c\"):\n",
    "    j=tf.divide(h,f)\n",
    "\n",
    "#value of m\n",
    "with tf.name_scope(\"value_m\"):\n",
    "    i=tf.multiply(j,x)\n",
    "    k=tf.subtract(y,i)\n",
    "\n",
    "\n",
    "with tf.Session() as sess:\n",
    "        writer = tf.summary.FileWriter(\"/tmp/tboard/out\", sess.graph)\n",
    "print(sess.run(x))\n",
    "print(sess.run(y))\n",
    "print(sess.run(d))\n",
    "print(sess.run(f))\n",
    "print(sess.run(h))\n",
    "print(sess.run(j))\n",
    "print(sess.run(k))\n",
    "    \n",
    "writer.close()"
   ]
  },
  {
   "cell_type": "code",
   "execution_count": null,
   "metadata": {
    "collapsed": true
   },
   "outputs": [],
   "source": []
  }
 ],
 "metadata": {
  "kernelspec": {
   "display_name": "Python 3",
   "language": "python",
   "name": "python3"
  },
  "language_info": {
   "codemirror_mode": {
    "name": "ipython",
    "version": 3
   },
   "file_extension": ".py",
   "mimetype": "text/x-python",
   "name": "python",
   "nbconvert_exporter": "python",
   "pygments_lexer": "ipython3",
   "version": "3.6.1"
  }
 },
 "nbformat": 4,
 "nbformat_minor": 2
}
